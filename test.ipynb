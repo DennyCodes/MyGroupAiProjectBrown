{
 "cells": [
  {
   "cell_type": "code",
   "execution_count": null,
   "id": "d86a966e-7add-4ce3-b432-b1662e5fe38d",
   "metadata": {},
   "outputs": [],
   "source": [
    "#import plot\n",
    "\n",
    "#call the training here 1000 times with diff sets of data:\n",
    "\n",
    "#to optimize the constants \n",
    "\n",
    "def oConst:\n",
    "    "
   ]
  }
 ],
 "metadata": {
  "kernelspec": {
   "display_name": "Python 3 (ipykernel)",
   "language": "python",
   "name": "python3"
  },
  "language_info": {
   "codemirror_mode": {
    "name": "ipython",
    "version": 3
   },
   "file_extension": ".py",
   "mimetype": "text/x-python",
   "name": "python",
   "nbconvert_exporter": "python",
   "pygments_lexer": "ipython3",
   "version": "3.10.14"
  }
 },
 "nbformat": 4,
 "nbformat_minor": 5
}
