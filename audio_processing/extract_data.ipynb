{
 "cells": [
  {
   "cell_type": "code",
   "execution_count": 345,
   "metadata": {},
   "outputs": [],
   "source": [
    "import pandas as pd\n",
    "import numpy as np\n",
    "import csv\n",
    "import os\n",
    "\n",
    "import matplotlib.pyplot as plt\n",
    "from matplotlib.pyplot import figure\n",
    "\n",
    "import librosa\n",
    "import gdown\n",
    "import soundfile as sf\n",
    "from scipy.signal import butter, filtfilt\n",
    "\n",
    "import audiosegment\n",
    "from include import helpers\n",
    "\n",
    "filename = \"voice_bora\"\n",
    "\n",
    "my_dict = {\"voice_murad\": 0, \"voice_gabe\":1, \"voice_deniz\":2, \"voice_bora\":3}"
   ]
  },
  {
   "cell_type": "code",
   "execution_count": 346,
   "metadata": {},
   "outputs": [
    {
     "name": "stdout",
     "output_type": "stream",
     "text": [
      "['Kayıt (23).wav', 'Kayıt (19).wav', 'Kayıt (15).wav', 'Kayıt (14).wav', 'Kayıt (18).wav', 'Kayıt (22).wav', 'Kayıt (6).wav', 'Kayıt (29).wav', 'Kayıt (13).wav', 'Kayıt (25).wav', 'Kayıt (24).wav', 'Kayıt (12).wav', 'Kayıt (28).wav', 'Kayıt (7).wav', 'Kayıt (11).wav', 'Kayıt (4).wav', 'Kayıt (27).wav', 'Kayıt (8).wav', 'Kayıt (9).wav', 'Kayıt (26).wav', 'Kayıt (5).wav', 'Kayıt (10).wav', 'Kayıt.wav', 'Kayıt (21).wav', 'Kayıt (17).wav', 'Kayıt (2).wav', 'Kayıt (3).wav', 'Kayıt (16).wav', 'Kayıt (20).wav']\n"
     ]
    }
   ],
   "source": [
    "#important parameters for audio processing\n",
    "base_folder_path = \"/Users/gabrielalvesiervolino/Desktop/Coding/machineLearning/voice_recog_final_project/audio_processing/data\"\n",
    "audio_path = [base_folder_path+\"/\"+filename+\"/\"]\n",
    "\n",
    "for i in audio_path:\n",
    "    print(os.listdir(i))"
   ]
  },
  {
   "cell_type": "code",
   "execution_count": 347,
   "metadata": {},
   "outputs": [],
   "source": [
    "def plot_spectrogram(db):\n",
    "    plt.figure(figsize=(12, 4))\n",
    "    librosa.display.specshow(db, x_axis='time', y_axis='log')\n",
    "    plt.colorbar(format='%+2.0f dB')\n",
    "    plt.title('STFT Spectrogram')\n",
    "    plt.tight_layout()\n",
    "    plt.show()\n"
   ]
  },
  {
   "cell_type": "code",
   "execution_count": 348,
   "metadata": {},
   "outputs": [
    {
     "name": "stdout",
     "output_type": "stream",
     "text": [
      "3\n",
      "3\n",
      "3\n",
      "3\n",
      "3\n",
      "3\n",
      "3\n",
      "3\n",
      "3\n",
      "3\n",
      "3\n",
      "3\n",
      "3\n",
      "3\n",
      "3\n",
      "3\n",
      "3\n",
      "3\n",
      "3\n",
      "3\n",
      "3\n",
      "3\n",
      "3\n",
      "3\n",
      "3\n",
      "3\n",
      "3\n",
      "3\n",
      "3\n"
     ]
    }
   ],
   "source": [
    "compute_list = np.array([])\n",
    "n_fft=2048\n",
    "hop_length=512\n",
    "\n",
    "for i in audio_path:\n",
    "    for j in os.listdir(i):\n",
    "        y, sr = librosa.load(i+j)\n",
    "        normalized = librosa.util.normalize(y)\n",
    "\n",
    "        stft = librosa.core.stft(normalized, n_fft=n_fft, hop_length=hop_length)\n",
    "        stft_db = librosa.amplitude_to_db(abs(stft), ref=np.max)\n",
    "\n",
    "        stft_db = stft_db.flatten()\n",
    "        stft_db = stft_db[0:100001].astype(int)\n",
    "        stft_db[100000] = my_dict[filename]\n",
    "        print(stft_db[100000])\n",
    "\n",
    "\n",
    "        if compute_list.size == 0:\n",
    "            compute_list = np.array(stft_db)\n",
    "        else:\n",
    "            compute_list = np.row_stack((stft_db,compute_list))\n",
    "        #print(compute_list.shape)\n",
    "\n",
    "\n",
    "    with open(\"./data_csv/\"+filename+\".csv\", \"w\") as file:\n",
    "        writer = csv.writer(file)\n",
    "        writer.writerows(compute_list)\n"
   ]
  }
 ],
 "metadata": {
  "kernelspec": {
   "display_name": "final",
   "language": "python",
   "name": "python3"
  },
  "language_info": {
   "codemirror_mode": {
    "name": "ipython",
    "version": 3
   },
   "file_extension": ".py",
   "mimetype": "text/x-python",
   "name": "python",
   "nbconvert_exporter": "python",
   "pygments_lexer": "ipython3",
   "version": "3.12.4"
  }
 },
 "nbformat": 4,
 "nbformat_minor": 2
}
