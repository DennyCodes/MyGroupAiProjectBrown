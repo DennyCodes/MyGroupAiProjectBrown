{
 "cells": [
  {
   "cell_type": "code",
   "execution_count": 309,
   "metadata": {},
   "outputs": [],
   "source": [
    "import pandas as pd\n",
    "import numpy as np\n",
    "import csv\n",
    "import os\n",
    "\n",
    "import matplotlib.pyplot as plt\n",
    "from matplotlib.pyplot import figure\n",
    "\n",
    "import librosa\n",
    "import gdown\n",
    "import soundfile as sf\n",
    "from scipy.signal import butter, filtfilt\n",
    "\n",
    "import audiosegment\n",
    "from include import helpers\n",
    "\n",
    "filename = \"voice_murad\""
   ]
  },
  {
   "cell_type": "code",
   "execution_count": 310,
   "metadata": {},
   "outputs": [
    {
     "name": "stdout",
     "output_type": "stream",
     "text": [
      "['2024-07-25T15_27_52Z.wav', '2024-07-25T15_31_36Z.wav', '2024-07-25T15_29_40Z.wav', '2024-07-25T15_32_11Z.wav', '2024-07-25T15_29_46Z.wav', '2024-07-25T15_27_58Z.wav', '2024-07-25T15_32_16Z.wav', '2024-07-25T15_31_51Z.wav', '2024-07-25T15_27_38Z.wav', '2024-07-25T15_31_31Z.wav', '2024-07-25T15_28_53Z.wav', '2024-07-25T15_29_29Z.wav', '2024-07-25T15_29_05Z.wav', '2024-07-25T15_28_08Z.wav', '2024-07-25T15_29_33Z.wav', '2024-07-25T15_29_09Z.wav', '2024-07-25T15_29_53Z.wav', '2024-07-25T15_28_59Z.wav', '2024-07-25T15_31_43Z.wav', '2024-07-25T15_30_03Z.wav', '2024-07-25T15_29_58Z.wav', '2024-07-25T15_28_22Z.wav', '2024-07-25T15_32_32Z.wav', '2024-07-25T15_32_25Z.wav', '2024-07-25T15_29_14Z.wav', '2024-07-25T15_28_42Z.wav', '2024-07-25T15_28_15Z.wav', '2024-07-25T15_27_47Z.wav', '2024-07-25T15_29_22Z.wav', '2024-07-25T15_32_05Z.wav']\n"
     ]
    }
   ],
   "source": [
    "#important parameters for audio processing\n",
    "base_folder_path = \"/Users/gabrielalvesiervolino/Desktop/Coding/machineLearning/voice_recog_final_project/audio_processing/data\"\n",
    "audio_path = [base_folder_path+\"/\"+filename+\"/\"]\n",
    "\n",
    "for i in audio_path:\n",
    "    print(os.listdir(i))"
   ]
  },
  {
   "cell_type": "code",
   "execution_count": 311,
   "metadata": {},
   "outputs": [],
   "source": [
    "def plot_spectrogram(db):\n",
    "    plt.figure(figsize=(12, 4))\n",
    "    librosa.display.specshow(db, x_axis='time', y_axis='log')\n",
    "    plt.colorbar(format='%+2.0f dB')\n",
    "    plt.title('STFT Spectrogram')\n",
    "    plt.tight_layout()\n",
    "    plt.show()\n"
   ]
  },
  {
   "cell_type": "code",
   "execution_count": 312,
   "metadata": {},
   "outputs": [
    {
     "name": "stdout",
     "output_type": "stream",
     "text": [
      "(100000,)\n",
      "(2, 100000)\n",
      "(3, 100000)\n",
      "(4, 100000)\n",
      "(5, 100000)\n",
      "(6, 100000)\n",
      "(7, 100000)\n",
      "(8, 100000)\n",
      "(9, 100000)\n",
      "(10, 100000)\n",
      "(11, 100000)\n",
      "(12, 100000)\n",
      "(13, 100000)\n",
      "(14, 100000)\n",
      "(15, 100000)\n",
      "(16, 100000)\n",
      "(17, 100000)\n",
      "(18, 100000)\n",
      "(19, 100000)\n",
      "(20, 100000)\n",
      "(21, 100000)\n",
      "(22, 100000)\n",
      "(23, 100000)\n",
      "(24, 100000)\n",
      "(25, 100000)\n",
      "(26, 100000)\n",
      "(27, 100000)\n",
      "(28, 100000)\n",
      "(29, 100000)\n",
      "(30, 100000)\n"
     ]
    }
   ],
   "source": [
    "compute_list = np.array([])\n",
    "n_fft=2048\n",
    "hop_length=512\n",
    "\n",
    "for i in audio_path:\n",
    "    for j in os.listdir(i):\n",
    "        y, sr = librosa.load(i+j)\n",
    "        normalized = librosa.util.normalize(y)\n",
    "\n",
    "        stft = librosa.core.stft(normalized, n_fft=n_fft, hop_length=hop_length)\n",
    "        stft_db = librosa.amplitude_to_db(abs(stft), ref=np.max)\n",
    "\n",
    "        stft_db = stft_db.flatten()\n",
    "        stft_db = stft_db[0:100000].astype(int)\n",
    "\n",
    "\n",
    "        if compute_list.size == 0:\n",
    "            compute_list = np.array(stft_db)\n",
    "        else:\n",
    "            compute_list = np.row_stack((stft_db,compute_list))\n",
    "        print(compute_list.shape)\n",
    "\n",
    "\n",
    "    with open(\"./data_csv/\"+filename+\".csv\", \"w\") as file:\n",
    "        writer = csv.writer(file)\n",
    "        writer.writerows(compute_list)\n"
   ]
  }
 ],
 "metadata": {
  "kernelspec": {
   "display_name": "final",
   "language": "python",
   "name": "python3"
  },
  "language_info": {
   "codemirror_mode": {
    "name": "ipython",
    "version": 3
   },
   "file_extension": ".py",
   "mimetype": "text/x-python",
   "name": "python",
   "nbconvert_exporter": "python",
   "pygments_lexer": "ipython3",
   "version": "3.12.4"
  }
 },
 "nbformat": 4,
 "nbformat_minor": 2
}
