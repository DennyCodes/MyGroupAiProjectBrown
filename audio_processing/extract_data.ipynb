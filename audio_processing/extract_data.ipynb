{
 "cells": [
  {
   "cell_type": "code",
   "execution_count": 17,
   "metadata": {},
   "outputs": [],
   "source": [
    "import pandas as pd\n",
    "import numpy as np\n",
    "import csv\n",
    "import os\n",
    "\n",
    "import matplotlib.pyplot as plt\n",
    "from matplotlib.pyplot import figure\n",
    "\n",
    "import librosa\n",
    "import gdown\n",
    "import soundfile as sf\n",
    "from scipy.signal import butter, filtfilt\n",
    "\n",
    "import audiosegment\n",
    "from include import helpers"
   ]
  },
  {
   "cell_type": "code",
   "execution_count": 18,
   "metadata": {},
   "outputs": [
    {
     "name": "stdout",
     "output_type": "stream",
     "text": [
      "['Kayıt (24).m4a', 'Kayıt (7).m4a', 'Kayıt (28).m4a', 'Kayıt (12).m4a', 'Kayıt (13).m4a', 'Kayıt (29).m4a', 'Kayıt (6).m4a', 'Kayıt (25).m4a', 'Kayıt (14).m4a', 'Kayıt (22).m4a', 'Kayıt (18).m4a', 'Kayıt (19).m4a', 'Kayıt (23).m4a', 'Kayıt (15).m4a', 'Kayıt (16).m4a', 'Kayıt (3).m4a', 'Kayıt (20).m4a', 'Kayıt (21).m4a', 'Kayıt.m4a', 'Kayıt (2).m4a', 'Kayıt (17).m4a', 'Kayıt (26).m4a', 'Kayıt (9).m4a', 'Kayıt (10).m4a', 'Kayıt (5).m4a', 'Kayıt (4).m4a', 'Kayıt (11).m4a', 'Kayıt (8).m4a', 'Kayıt (27).m4a']\n"
     ]
    }
   ],
   "source": [
    "#important parameters for audio processing\n",
    "base_folder_path = \"/Users/gabrielalvesiervolino/Desktop/Coding/machineLearning/voice_recog_final_project/audio_processing/data\"\n",
    "audio_path = [base_folder_path+\"/voice_bora/\"]\n",
    "\n",
    "for i in audio_path:\n",
    "    print(os.listdir(i))"
   ]
  },
  {
   "cell_type": "code",
   "execution_count": 19,
   "metadata": {},
   "outputs": [],
   "source": [
    "def plot_spectrogram(db):\n",
    "    plt.figure(figsize=(12, 4))\n",
    "    librosa.display.specshow(db, x_axis='time', y_axis='log')\n",
    "    plt.colorbar(format='%+2.0f dB')\n",
    "    plt.title('STFT Spectrogram')\n",
    "    plt.tight_layout()\n",
    "    plt.show()\n"
   ]
  },
  {
   "cell_type": "code",
   "execution_count": 20,
   "metadata": {},
   "outputs": [
    {
     "name": "stdout",
     "output_type": "stream",
     "text": [
      "(1025, 102)\n"
     ]
    },
    {
     "name": "stderr",
     "output_type": "stream",
     "text": [
      "/var/folders/h7/7wt7gyzx0v73k2r3l8q6flqc0000gn/T/ipykernel_34492/1061777411.py:7: UserWarning: PySoundFile failed. Trying audioread instead.\n",
      "  y, sr = librosa.load(i+j)\n"
     ]
    },
    {
     "name": "stdout",
     "output_type": "stream",
     "text": [
      "(1025, 227)\n",
      "(1025, 141)\n",
      "(1025, 169)\n",
      "(1025, 171)\n",
      "(1025, 104)\n",
      "(1025, 173)\n",
      "(1025, 137)\n",
      "(1025, 99)\n",
      "(1025, 158)\n",
      "(1025, 125)\n",
      "(1025, 109)\n",
      "(1025, 90)\n",
      "(1025, 181)\n",
      "(1025, 125)\n",
      "(1025, 195)\n",
      "(1025, 122)\n",
      "(1025, 122)\n",
      "(1025, 237)\n",
      "(1025, 205)\n",
      "(1025, 99)\n",
      "(1025, 111)\n",
      "(1025, 120)\n",
      "(1025, 109)\n",
      "(1025, 179)\n",
      "(1025, 219)\n",
      "(1025, 127)\n",
      "(1025, 185)\n",
      "(1025, 109)\n"
     ]
    }
   ],
   "source": [
    "compute_list = []\n",
    "n_fft=2048\n",
    "hop_length=512\n",
    "\n",
    "for i in audio_path:\n",
    "    for j in os.listdir(i):\n",
    "        y, sr = librosa.load(i+j)\n",
    "        normalized = librosa.util.normalize(y)\n",
    "\n",
    "        stft = librosa.core.stft(normalized, n_fft=n_fft, hop_length=hop_length)\n",
    "        stft_db = librosa.amplitude_to_db(abs(stft), ref=np.max)\n",
    "\n",
    "        with open(\"test.txt\", \"w\") as text_file:\n",
    "            np.savetxt(\"test.txt\", stft_db)\n",
    "        print(stft_db.shape)\n",
    "\n",
    "\n",
    "        #plot_spectrogram(stft_db)\n",
    "        #break\n",
    "    break\n",
    "\n",
    "\n",
    "\n"
   ]
  }
 ],
 "metadata": {
  "kernelspec": {
   "display_name": "final",
   "language": "python",
   "name": "python3"
  },
  "language_info": {
   "codemirror_mode": {
    "name": "ipython",
    "version": 3
   },
   "file_extension": ".py",
   "mimetype": "text/x-python",
   "name": "python",
   "nbconvert_exporter": "python",
   "pygments_lexer": "ipython3",
   "version": "3.12.4"
  }
 },
 "nbformat": 4,
 "nbformat_minor": 2
}
