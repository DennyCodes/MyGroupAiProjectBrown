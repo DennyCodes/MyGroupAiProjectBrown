{
 "cells": [
  {
   "cell_type": "code",
   "execution_count": 5,
   "metadata": {},
   "outputs": [],
   "source": [
    "import pandas as pd\n",
    "import numpy as np\n",
    "import csv\n",
    "import os\n",
    "\n",
    "import matplotlib.pyplot as plt\n",
    "from matplotlib.pyplot import figure\n",
    "\n",
    "import librosa\n",
    "import gdown\n",
    "import soundfile as sf\n",
    "from scipy.signal import butter, filtfilt\n",
    "\n",
    "import audiosegment\n",
    "from include import helpers"
   ]
  },
  {
   "cell_type": "code",
   "execution_count": 6,
   "metadata": {},
   "outputs": [
    {
     "name": "stdout",
     "output_type": "stream",
     "text": [
      "['barbie_28.wav', 'barbie_14.wav', 'barbie_15.wav', 'barbie_29.wav', 'barbie_17.wav', 'barbie_16.wav', 'barbie_8.wav', 'barbie_12.wav', 'barbie_13.wav', 'barbie_9.wav', 'barbie_11.wav', 'barbie_39.wav', 'barbie_38.wav', 'barbie_10.wav', 'barbie_48.wav', 'barbie_49.wav', 'barbie_42.wav', 'barbie_43.wav', 'barbie_41.wav', 'barbie_40.wav', 'barbie_44.wav', 'barbie_45.wav', 'barbie_47.wav', 'barbie_46.wav', 'barbie_7.wav', 'barbie_21.wav', 'barbie_35.wav', 'barbie_34.wav', 'barbie_20.wav', 'barbie_6.wav', 'barbie_4.wav', 'barbie_36.wav', 'barbie_22.wav', 'barbie_23.wav', 'barbie_37.wav', 'barbie_5.wav', 'barbie_1.wav', 'barbie_33.wav', 'barbie_27.wav', 'barbie_26.wav', 'barbie_32.wav', 'barbie_0.wav', 'barbie_2.wav', 'barbie_24.wav', 'barbie_30.wav', 'barbie_18.wav', 'barbie_19.wav', 'barbie_31.wav', 'barbie_25.wav', 'barbie_3.wav']\n",
      "['puppy_21.wav', 'puppy_35.wav', 'puppy_34.wav', 'puppy_20.wav', 'puppy_36.wav', 'puppy_22.wav', 'puppy_8.wav', 'puppy_9.wav', 'puppy_23.wav', 'puppy_37.wav', 'puppy_33.wav', 'puppy_27.wav', 'puppy_26.wav', 'puppy_32.wav', 'puppy_24.wav', 'puppy_30.wav', 'puppy_18.wav', 'puppy_19.wav', 'puppy_31.wav', 'puppy_25.wav', 'puppy_42.wav', 'puppy_43.wav', 'puppy_41.wav', 'puppy_40.wav', 'puppy_44.wav', 'puppy_45.wav', 'puppy_47.wav', 'puppy_46.wav', 'puppy_28.wav', 'puppy_14.wav', 'puppy_2.wav', 'puppy_3.wav', 'puppy_15.wav', 'puppy_29.wav', 'puppy_17.wav', 'puppy_1.wav', 'puppy_0.wav', 'puppy_16.wav', 'puppy_12.wav', 'puppy_4.wav', 'puppy_5.wav', 'puppy_13.wav', 'puppy_11.wav', 'puppy_39.wav', 'puppy_7.wav', 'puppy_6.wav', 'puppy_38.wav', 'puppy_10.wav']\n"
     ]
    }
   ],
   "source": [
    "#important parameters for audio processing\n",
    "base_folder_path = \"/Users/gabrielalvesiervolino/Desktop/Coding/machineLearning/voice_recog_final_project/audio_processing/data\"\n",
    "audio_path = [base_folder_path+\"/barbie/\", base_folder_path+\"/puppy/\"]\n",
    "\n",
    "for i in audio_path:\n",
    "    print(os.listdir(i))"
   ]
  },
  {
   "cell_type": "code",
   "execution_count": 7,
   "metadata": {},
   "outputs": [],
   "source": [
    "def plot_spectrogram(db):\n",
    "    plt.figure(figsize=(12, 4))\n",
    "    librosa.display.specshow(db, x_axis='time', y_axis='log')\n",
    "    plt.colorbar(format='%+2.0f dB')\n",
    "    plt.title('STFT Spectrogram')\n",
    "    plt.tight_layout()\n",
    "    plt.show()\n"
   ]
  },
  {
   "cell_type": "code",
   "execution_count": 8,
   "metadata": {},
   "outputs": [
    {
     "name": "stdout",
     "output_type": "stream",
     "text": [
      "(1025, 44)\n",
      "(1025, 44)\n",
      "(1025, 44)\n",
      "(1025, 44)\n",
      "(1025, 44)\n",
      "(1025, 44)\n",
      "(1025, 44)\n",
      "(1025, 44)\n",
      "(1025, 44)\n",
      "(1025, 44)\n",
      "(1025, 44)\n",
      "(1025, 44)\n",
      "(1025, 44)\n",
      "(1025, 44)\n",
      "(1025, 44)\n",
      "(1025, 44)\n",
      "(1025, 44)\n",
      "(1025, 44)\n",
      "(1025, 44)\n",
      "(1025, 44)\n",
      "(1025, 44)\n",
      "(1025, 44)\n",
      "(1025, 44)\n",
      "(1025, 44)\n",
      "(1025, 44)\n",
      "(1025, 44)\n",
      "(1025, 44)\n",
      "(1025, 44)\n",
      "(1025, 44)\n",
      "(1025, 44)\n",
      "(1025, 44)\n",
      "(1025, 44)\n",
      "(1025, 44)\n",
      "(1025, 44)\n",
      "(1025, 44)\n",
      "(1025, 44)\n",
      "(1025, 44)\n",
      "(1025, 44)\n",
      "(1025, 44)\n",
      "(1025, 44)\n",
      "(1025, 44)\n",
      "(1025, 44)\n",
      "(1025, 44)\n",
      "(1025, 44)\n",
      "(1025, 44)\n",
      "(1025, 44)\n",
      "(1025, 44)\n",
      "(1025, 44)\n",
      "(1025, 44)\n",
      "(1025, 44)\n"
     ]
    }
   ],
   "source": [
    "compute_list = []\n",
    "n_fft=2048\n",
    "hop_length=512\n",
    "\n",
    "for i in audio_path:\n",
    "    for j in os.listdir(i):\n",
    "        y, sr = librosa.load(i+j)\n",
    "        normalized = librosa.util.normalize(y)\n",
    "\n",
    "        stft = librosa.core.stft(normalized, n_fft=n_fft, hop_length=hop_length)\n",
    "        stft_db = librosa.amplitude_to_db(abs(stft), ref=np.max)\n",
    "\n",
    "        with open(\"test.txt\", \"w\") as text_file:\n",
    "            np.savetxt(\"test.txt\", stft_db)\n",
    "        print(stft_db.shape)\n",
    "\n",
    "\n",
    "        #plot_spectrogram(stft_db)\n",
    "        #break\n",
    "    break\n",
    "\n",
    "\n",
    "\n"
   ]
  }
 ],
 "metadata": {
  "kernelspec": {
   "display_name": "final",
   "language": "python",
   "name": "python3"
  },
  "language_info": {
   "codemirror_mode": {
    "name": "ipython",
    "version": 3
   },
   "file_extension": ".py",
   "mimetype": "text/x-python",
   "name": "python",
   "nbconvert_exporter": "python",
   "pygments_lexer": "ipython3",
   "version": "3.12.4"
  }
 },
 "nbformat": 4,
 "nbformat_minor": 2
}
