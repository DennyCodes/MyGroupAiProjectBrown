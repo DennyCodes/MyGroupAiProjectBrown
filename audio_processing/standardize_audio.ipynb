{
 "cells": [
  {
   "cell_type": "code",
   "execution_count": 153,
   "metadata": {},
   "outputs": [],
   "source": [
    "import pandas as pd\n",
    "import numpy as np\n",
    "import csv\n",
    "import os\n",
    "\n",
    "import matplotlib.pyplot as plt\n",
    "from matplotlib.pyplot import figure\n",
    "\n",
    "import librosa\n",
    "import gdown\n",
    "import soundfile as sf\n",
    "from scipy.signal import butter, filtfilt\n",
    "\n",
    "from include import helpers"
   ]
  },
  {
   "cell_type": "code",
   "execution_count": 154,
   "metadata": {},
   "outputs": [
    {
     "name": "stdout",
     "output_type": "stream",
     "text": [
      "['Kayıt (23).wav', 'Kayıt (19).wav', 'Kayıt (15).wav', 'Kayıt (14).wav', 'Kayıt (18).wav', 'Kayıt (22).wav', 'Kayıt (6).wav', 'Kayıt (29).wav', 'Kayıt (13).wav', 'Kayıt (25).wav', 'Kayıt (24).wav', 'Kayıt (12).wav', 'Kayıt (28).wav', 'Kayıt (7).wav', 'Kayıt (11).wav', 'Kayıt (4).wav', 'Kayıt (27).wav', 'Kayıt (8).wav', 'Kayıt (9).wav', 'Kayıt (26).wav', 'Kayıt (5).wav', 'Kayıt (10).wav', 'Kayıt.wav', 'Kayıt (21).wav', 'Kayıt (17).wav', 'Kayıt (2).wav', 'Kayıt (3).wav', 'Kayıt (16).wav', 'Kayıt (20).wav']\n"
     ]
    }
   ],
   "source": [
    "#important parameters for audio processing\n",
    "base_folder_path = \"/Users/gabrielalvesiervolino/Desktop/Coding/machineLearning/voice_recog_final_project/audio_processing/data\"\n",
    "\n",
    "audio_path = [base_folder_path+\"/voice_gabe/\"]\n",
    "\n",
    "for i in audio_path:\n",
    "    print(os.listdir(i))"
   ]
  },
  {
   "cell_type": "code",
   "execution_count": 155,
   "metadata": {},
   "outputs": [],
   "source": [
    "def std_len(data, target_length):\n",
    "    print(f\"Model input shape: {data.shape}\")\n",
    "    if len(data) < target_length:\n",
    "        data = np.pad(data, (0, target_length - len(data)))\n",
    "    else:\n",
    "        data = data[:target_length]\n",
    "    print(f\"Model output shape: {data.shape}\")\n",
    "    return data"
   ]
  },
  {
   "cell_type": "code",
   "execution_count": 156,
   "metadata": {},
   "outputs": [],
   "source": [
    "def resample_audio(path, sampling_rate=500):\n",
    "    y, sr = librosa.load(path, sr=sampling_rate)\n",
    "    y, _ = librosa.effects.trim(y)\n",
    "    if sr != sampling_rate:\n",
    "        librosa.resample(y, sr, sampling_rate)\n",
    "    return y  "
   ]
  },
  {
   "cell_type": "code",
   "execution_count": 157,
   "metadata": {},
   "outputs": [],
   "source": [
    "def lowpass(data, cutoff_freq, sample_rate, order=4):\n",
    "    nyquist = 0.5 * sample_rate\n",
    "    normal_cutoff = cutoff_freq / nyquist\n",
    "    b, a = butter(order, normal_cutoff, btype='low', analog=False)\n",
    "    filtered_data = filtfilt(b, a, data)\n",
    "\n",
    "    print(f\"Filtered audio shape: {filtered_data.shape}\")\n",
    "\n",
    "    return filtered_data\n",
    " "
   ]
  },
  {
   "cell_type": "code",
   "execution_count": 158,
   "metadata": {},
   "outputs": [],
   "source": [
    "def compute_logmel_spectrogram(y, sr, n_mels=40, hop_length=512):\n",
    "    mel_spectrogram = librosa.feature.melspectrogram(y=y, sr=sr, n_mels=n_mels, hop_length=hop_length)\n",
    "    logmel_spectrogram = librosa.power_to_db(mel_spectrogram, ref=np.max)\n",
    "    return logmel_spectrogram"
   ]
  },
  {
   "cell_type": "code",
   "execution_count": 159,
   "metadata": {},
   "outputs": [],
   "source": [
    "def resample_data(folders, sr):\n",
    "    compute_list = []\n",
    "    for i in folders:\n",
    "        for j in os.listdir(i):\n",
    "            print(i+j)\n",
    "            final_audio = resample_audio(i+j, sr)\n",
    "            final_audio = lowpass(final_audio, cutoff_freq= (sr/2)-1, sample_rate=sr) \n",
    "            final_audio = std_len(final_audio, 80000)\n",
    "\n",
    "            sf.write(i+j, final_audio, samplerate=sr)\n",
    "    return compute_list\n",
    "            "
   ]
  },
  {
   "cell_type": "code",
   "execution_count": 160,
   "metadata": {},
   "outputs": [
    {
     "name": "stdout",
     "output_type": "stream",
     "text": [
      "/Users/gabrielalvesiervolino/Desktop/Coding/machineLearning/voice_recog_final_project/audio_processing/data/voice_gabe/Kayıt (23).wav\n",
      "Filtered audio shape: (24064,)\n",
      "Model input shape: (24064,)\n",
      "Model output shape: (80000,)\n",
      "/Users/gabrielalvesiervolino/Desktop/Coding/machineLearning/voice_recog_final_project/audio_processing/data/voice_gabe/Kayıt (19).wav\n",
      "Filtered audio shape: (32768,)\n",
      "Model input shape: (32768,)\n",
      "Model output shape: (80000,)\n",
      "/Users/gabrielalvesiervolino/Desktop/Coding/machineLearning/voice_recog_final_project/audio_processing/data/voice_gabe/Kayıt (15).wav\n",
      "Filtered audio shape: (64000,)\n",
      "Model input shape: (64000,)\n",
      "Model output shape: (80000,)\n",
      "/Users/gabrielalvesiervolino/Desktop/Coding/machineLearning/voice_recog_final_project/audio_processing/data/voice_gabe/Kayıt (14).wav\n",
      "Filtered audio shape: (24576,)\n",
      "Model input shape: (24576,)\n",
      "Model output shape: (80000,)\n",
      "/Users/gabrielalvesiervolino/Desktop/Coding/machineLearning/voice_recog_final_project/audio_processing/data/voice_gabe/Kayıt (18).wav\n",
      "Filtered audio shape: (32768,)\n",
      "Model input shape: (32768,)\n",
      "Model output shape: (80000,)\n",
      "/Users/gabrielalvesiervolino/Desktop/Coding/machineLearning/voice_recog_final_project/audio_processing/data/voice_gabe/Kayıt (22).wav\n",
      "Filtered audio shape: (43520,)\n",
      "Model input shape: (43520,)\n",
      "Model output shape: (80000,)\n",
      "/Users/gabrielalvesiervolino/Desktop/Coding/machineLearning/voice_recog_final_project/audio_processing/data/voice_gabe/Kayıt (6).wav\n",
      "Filtered audio shape: (39424,)\n",
      "Model input shape: (39424,)\n",
      "Model output shape: (80000,)\n",
      "/Users/gabrielalvesiervolino/Desktop/Coding/machineLearning/voice_recog_final_project/audio_processing/data/voice_gabe/Kayıt (29).wav\n",
      "Filtered audio shape: (23552,)\n",
      "Model input shape: (23552,)\n",
      "Model output shape: (80000,)\n",
      "/Users/gabrielalvesiervolino/Desktop/Coding/machineLearning/voice_recog_final_project/audio_processing/data/voice_gabe/Kayıt (13).wav\n",
      "Filtered audio shape: (38400,)\n",
      "Model input shape: (38400,)\n",
      "Model output shape: (80000,)\n",
      "/Users/gabrielalvesiervolino/Desktop/Coding/machineLearning/voice_recog_final_project/audio_processing/data/voice_gabe/Kayıt (25).wav\n",
      "Filtered audio shape: (41984,)\n",
      "Model input shape: (41984,)\n",
      "Model output shape: (80000,)\n",
      "/Users/gabrielalvesiervolino/Desktop/Coding/machineLearning/voice_recog_final_project/audio_processing/data/voice_gabe/Kayıt (24).wav\n",
      "Filtered audio shape: (23552,)\n",
      "Model input shape: (23552,)\n",
      "Model output shape: (80000,)\n",
      "/Users/gabrielalvesiervolino/Desktop/Coding/machineLearning/voice_recog_final_project/audio_processing/data/voice_gabe/Kayıt (12).wav\n",
      "Filtered audio shape: (54784,)\n",
      "Model input shape: (54784,)\n",
      "Model output shape: (80000,)\n",
      "/Users/gabrielalvesiervolino/Desktop/Coding/machineLearning/voice_recog_final_project/audio_processing/data/voice_gabe/Kayıt (28).wav\n",
      "Filtered audio shape: (46080,)\n",
      "Model input shape: (46080,)\n",
      "Model output shape: (80000,)\n",
      "/Users/gabrielalvesiervolino/Desktop/Coding/machineLearning/voice_recog_final_project/audio_processing/data/voice_gabe/Kayıt (7).wav\n",
      "Filtered audio shape: (54784,)\n",
      "Model input shape: (54784,)\n",
      "Model output shape: (80000,)\n",
      "/Users/gabrielalvesiervolino/Desktop/Coding/machineLearning/voice_recog_final_project/audio_processing/data/voice_gabe/Kayıt (11).wav\n",
      "Filtered audio shape: (39936,)\n",
      "Model input shape: (39936,)\n",
      "Model output shape: (80000,)\n",
      "/Users/gabrielalvesiervolino/Desktop/Coding/machineLearning/voice_recog_final_project/audio_processing/data/voice_gabe/Kayıt (4).wav\n",
      "Filtered audio shape: (47104,)\n",
      "Model input shape: (47104,)\n",
      "Model output shape: (80000,)\n",
      "/Users/gabrielalvesiervolino/Desktop/Coding/machineLearning/voice_recog_final_project/audio_processing/data/voice_gabe/Kayıt (27).wav\n",
      "Filtered audio shape: (24576,)\n",
      "Model input shape: (24576,)\n",
      "Model output shape: (80000,)\n",
      "/Users/gabrielalvesiervolino/Desktop/Coding/machineLearning/voice_recog_final_project/audio_processing/data/voice_gabe/Kayıt (8).wav\n",
      "Filtered audio shape: (63488,)\n",
      "Model input shape: (63488,)\n",
      "Model output shape: (80000,)\n",
      "/Users/gabrielalvesiervolino/Desktop/Coding/machineLearning/voice_recog_final_project/audio_processing/data/voice_gabe/Kayıt (9).wav\n",
      "Filtered audio shape: (41472,)\n",
      "Model input shape: (41472,)\n",
      "Model output shape: (80000,)\n",
      "/Users/gabrielalvesiervolino/Desktop/Coding/machineLearning/voice_recog_final_project/audio_processing/data/voice_gabe/Kayıt (26).wav\n",
      "Filtered audio shape: (28160,)\n",
      "Model input shape: (28160,)\n",
      "Model output shape: (80000,)\n",
      "/Users/gabrielalvesiervolino/Desktop/Coding/machineLearning/voice_recog_final_project/audio_processing/data/voice_gabe/Kayıt (5).wav\n",
      "Filtered audio shape: (59392,)\n",
      "Model input shape: (59392,)\n",
      "Model output shape: (80000,)\n",
      "/Users/gabrielalvesiervolino/Desktop/Coding/machineLearning/voice_recog_final_project/audio_processing/data/voice_gabe/Kayıt (10).wav\n",
      "Filtered audio shape: (30208,)\n",
      "Model input shape: (30208,)\n",
      "Model output shape: (80000,)\n",
      "/Users/gabrielalvesiervolino/Desktop/Coding/machineLearning/voice_recog_final_project/audio_processing/data/voice_gabe/Kayıt.wav\n",
      "Filtered audio shape: (44544,)\n",
      "Model input shape: (44544,)\n",
      "Model output shape: (80000,)\n",
      "/Users/gabrielalvesiervolino/Desktop/Coding/machineLearning/voice_recog_final_project/audio_processing/data/voice_gabe/Kayıt (21).wav\n",
      "Filtered audio shape: (34304,)\n",
      "Model input shape: (34304,)\n",
      "Model output shape: (80000,)\n",
      "/Users/gabrielalvesiervolino/Desktop/Coding/machineLearning/voice_recog_final_project/audio_processing/data/voice_gabe/Kayıt (17).wav\n",
      "Filtered audio shape: (34304,)\n",
      "Model input shape: (34304,)\n",
      "Model output shape: (80000,)\n",
      "/Users/gabrielalvesiervolino/Desktop/Coding/machineLearning/voice_recog_final_project/audio_processing/data/voice_gabe/Kayıt (2).wav\n",
      "Filtered audio shape: (48128,)\n",
      "Model input shape: (48128,)\n",
      "Model output shape: (80000,)\n",
      "/Users/gabrielalvesiervolino/Desktop/Coding/machineLearning/voice_recog_final_project/audio_processing/data/voice_gabe/Kayıt (3).wav\n",
      "Filtered audio shape: (55808,)\n",
      "Model input shape: (55808,)\n",
      "Model output shape: (80000,)\n",
      "/Users/gabrielalvesiervolino/Desktop/Coding/machineLearning/voice_recog_final_project/audio_processing/data/voice_gabe/Kayıt (16).wav\n",
      "Filtered audio shape: (33792,)\n",
      "Model input shape: (33792,)\n",
      "Model output shape: (80000,)\n",
      "/Users/gabrielalvesiervolino/Desktop/Coding/machineLearning/voice_recog_final_project/audio_processing/data/voice_gabe/Kayıt (20).wav\n",
      "Filtered audio shape: (41984,)\n",
      "Model input shape: (41984,)\n",
      "Model output shape: (80000,)\n"
     ]
    }
   ],
   "source": [
    "comp_list = resample_data(audio_path, 16000)\n",
    "with open(\"test.txt\", \"w\") as f:\n",
    "    print(comp_list, file=f)"
   ]
  }
 ],
 "metadata": {
  "kernelspec": {
   "display_name": "final",
   "language": "python",
   "name": "python3"
  },
  "language_info": {
   "codemirror_mode": {
    "name": "ipython",
    "version": 3
   },
   "file_extension": ".py",
   "mimetype": "text/x-python",
   "name": "python",
   "nbconvert_exporter": "python",
   "pygments_lexer": "ipython3",
   "version": "3.12.4"
  }
 },
 "nbformat": 4,
 "nbformat_minor": 2
}
