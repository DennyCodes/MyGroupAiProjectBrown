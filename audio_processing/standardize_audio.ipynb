{
 "cells": [
  {
   "cell_type": "code",
   "execution_count": 59,
   "metadata": {},
   "outputs": [],
   "source": [
    "import pandas as pd\n",
    "import numpy as np\n",
    "import csv\n",
    "import os\n",
    "\n",
    "import matplotlib.pyplot as plt\n",
    "from matplotlib.pyplot import figure\n",
    "\n",
    "import librosa\n",
    "import gdown\n",
    "import soundfile as sf\n",
    "from scipy.signal import butter, filtfilt\n",
    "\n",
    "from include import helpers"
   ]
  },
  {
   "cell_type": "code",
   "execution_count": 60,
   "metadata": {},
   "outputs": [
    {
     "name": "stdout",
     "output_type": "stream",
     "text": [
      "['Kayıt (23).wav', 'Kayıt (19).wav', 'Kayıt (15).wav', 'Kayıt (14).wav', 'Kayıt (18).wav', 'Kayıt (22).wav', 'Kayıt (6).wav', 'Kayıt (29).wav', 'Kayıt (13).wav', 'Kayıt (25).wav', 'Kayıt (24).wav', 'Kayıt (12).wav', 'Kayıt (28).wav', 'Kayıt (7).wav', 'Kayıt (11).wav', 'Kayıt (4).wav', 'Kayıt (27).wav', 'Kayıt (8).wav', 'Kayıt (9).wav', 'Kayıt (26).wav', 'Kayıt (5).wav', 'Kayıt (10).wav', 'Kayıt.wav', 'Kayıt (21).wav', 'Kayıt (17).wav', 'Kayıt (2).wav', 'Kayıt (3).wav', 'Kayıt (16).wav', 'Kayıt (20).wav']\n"
     ]
    }
   ],
   "source": [
    "#important parameters for audio processing\n",
    "base_folder_path = \"/Users/gabrielalvesiervolino/Desktop/Coding/machineLearning/voice_recog_final_project/audio_processing/data\"\n",
    "\n",
    "audio_path = [base_folder_path+\"/voice_murad/\"]\n",
    "\n",
    "for i in audio_path:\n",
    "    print(os.listdir(i))"
   ]
  },
  {
   "cell_type": "code",
   "execution_count": 61,
   "metadata": {},
   "outputs": [],
   "source": [
    "def std_len(data, target_length):\n",
    "    print(f\"Model input shape: {data.shape}\")\n",
    "    if len(data) < target_length:\n",
    "        data = np.pad(data, (0, target_length - len(data)))\n",
    "    else:\n",
    "        data = data[:target_length]\n",
    "    print(f\"Model output shape: {data.shape}\")\n",
    "    return data"
   ]
  },
  {
   "cell_type": "code",
   "execution_count": 62,
   "metadata": {},
   "outputs": [],
   "source": [
    "def resample_audio(path, sampling_rate=16000):\n",
    "    y, sr = librosa.load(path, sr=sampling_rate)\n",
    "    y, _ = librosa.effects.trim(y)\n",
    "    if sr != sampling_rate:\n",
    "        librosa.resample(y, sr, sampling_rate)\n",
    "    return y  "
   ]
  },
  {
   "cell_type": "code",
   "execution_count": 63,
   "metadata": {},
   "outputs": [],
   "source": [
    "def lowpass(data, cutoff_freq, sample_rate, order=4):\n",
    "    nyquist = 0.5 * sample_rate\n",
    "    normal_cutoff = cutoff_freq / nyquist\n",
    "    b, a = butter(order, normal_cutoff, btype='low', analog=False)\n",
    "    filtered_data = filtfilt(b, a, data)\n",
    "\n",
    "    print(f\"Filtered audio shape: {filtered_data.shape}\")\n",
    "\n",
    "    return filtered_data\n",
    " "
   ]
  },
  {
   "cell_type": "code",
   "execution_count": 64,
   "metadata": {},
   "outputs": [],
   "source": [
    "def compute_logmel_spectrogram(y, sr, n_mels=40, hop_length=512):\n",
    "    mel_spectrogram = librosa.feature.melspectrogram(y=y, sr=sr, n_mels=n_mels, hop_length=hop_length)\n",
    "    logmel_spectrogram = librosa.power_to_db(mel_spectrogram, ref=np.max)\n",
    "    return logmel_spectrogram"
   ]
  },
  {
   "cell_type": "code",
   "execution_count": 65,
   "metadata": {},
   "outputs": [],
   "source": [
    "def resample_data(folders, sr):\n",
    "    compute_list = []\n",
    "    for i in folders:\n",
    "        for j in os.listdir(i):\n",
    "            print(i+j)\n",
    "            final_audio = resample_audio(i+j, sr)\n",
    "            final_audio = lowpass(final_audio, cutoff_freq= (sr/2)-1, sample_rate=sr) \n",
    "            final_audio = std_len(final_audio, 100000)\n",
    "\n",
    "            sf.write(i+j, final_audio, samplerate=sr)\n",
    "    return compute_list\n",
    "            "
   ]
  },
  {
   "cell_type": "code",
   "execution_count": 66,
   "metadata": {},
   "outputs": [
    {
     "name": "stdout",
     "output_type": "stream",
     "text": [
      "/Users/gabrielalvesiervolino/Desktop/Coding/machineLearning/voice_recog_final_project/audio_processing/data/voice_deniz/Kayıt (23).wav\n",
      "Filtered audio shape: (29867,)\n",
      "Model input shape: (29867,)\n",
      "Model output shape: (100000,)\n",
      "/Users/gabrielalvesiervolino/Desktop/Coding/machineLearning/voice_recog_final_project/audio_processing/data/voice_deniz/Kayıt (19).wav\n",
      "Filtered audio shape: (45739,)\n",
      "Model input shape: (45739,)\n",
      "Model output shape: (100000,)\n",
      "/Users/gabrielalvesiervolino/Desktop/Coding/machineLearning/voice_recog_final_project/audio_processing/data/voice_deniz/Kayıt (15).wav\n",
      "Filtered audio shape: (64171,)\n",
      "Model input shape: (64171,)\n",
      "Model output shape: (100000,)\n",
      "/Users/gabrielalvesiervolino/Desktop/Coding/machineLearning/voice_recog_final_project/audio_processing/data/voice_deniz/Kayıt (14).wav\n",
      "Filtered audio shape: (44886,)\n",
      "Model input shape: (44886,)\n",
      "Model output shape: (100000,)\n",
      "/Users/gabrielalvesiervolino/Desktop/Coding/machineLearning/voice_recog_final_project/audio_processing/data/voice_deniz/Kayıt (18).wav\n",
      "Filtered audio shape: (43691,)\n",
      "Model input shape: (43691,)\n",
      "Model output shape: (100000,)\n",
      "/Users/gabrielalvesiervolino/Desktop/Coding/machineLearning/voice_recog_final_project/audio_processing/data/voice_deniz/Kayıt (22).wav\n",
      "Filtered audio shape: (49323,)\n",
      "Model input shape: (49323,)\n",
      "Model output shape: (100000,)\n",
      "/Users/gabrielalvesiervolino/Desktop/Coding/machineLearning/voice_recog_final_project/audio_processing/data/voice_deniz/Kayıt (6).wav\n",
      "Filtered audio shape: (46422,)\n",
      "Model input shape: (46422,)\n",
      "Model output shape: (100000,)\n",
      "/Users/gabrielalvesiervolino/Desktop/Coding/machineLearning/voice_recog_final_project/audio_processing/data/voice_deniz/Kayıt (29).wav\n",
      "Filtered audio shape: (42496,)\n",
      "Model input shape: (42496,)\n",
      "Model output shape: (100000,)\n",
      "/Users/gabrielalvesiervolino/Desktop/Coding/machineLearning/voice_recog_final_project/audio_processing/data/voice_deniz/Kayıt (13).wav\n",
      "Filtered audio shape: (73728,)\n",
      "Model input shape: (73728,)\n",
      "Model output shape: (100000,)\n",
      "/Users/gabrielalvesiervolino/Desktop/Coding/machineLearning/voice_recog_final_project/audio_processing/data/voice_deniz/Kayıt (25).wav\n",
      "Filtered audio shape: (37035,)\n",
      "Model input shape: (37035,)\n",
      "Model output shape: (100000,)\n",
      "/Users/gabrielalvesiervolino/Desktop/Coding/machineLearning/voice_recog_final_project/audio_processing/data/voice_deniz/Kayıt (24).wav\n",
      "Filtered audio shape: (33622,)\n",
      "Model input shape: (33622,)\n",
      "Model output shape: (100000,)\n",
      "/Users/gabrielalvesiervolino/Desktop/Coding/machineLearning/voice_recog_final_project/audio_processing/data/voice_deniz/Kayıt (12).wav\n",
      "Filtered audio shape: (58880,)\n",
      "Model input shape: (58880,)\n",
      "Model output shape: (100000,)\n",
      "/Users/gabrielalvesiervolino/Desktop/Coding/machineLearning/voice_recog_final_project/audio_processing/data/voice_deniz/Kayıt (28).wav\n",
      "Filtered audio shape: (60928,)\n",
      "Model input shape: (60928,)\n",
      "Model output shape: (100000,)\n",
      "/Users/gabrielalvesiervolino/Desktop/Coding/machineLearning/voice_recog_final_project/audio_processing/data/voice_deniz/Kayıt (7).wav\n",
      "Filtered audio shape: (76118,)\n",
      "Model input shape: (76118,)\n",
      "Model output shape: (100000,)\n",
      "/Users/gabrielalvesiervolino/Desktop/Coding/machineLearning/voice_recog_final_project/audio_processing/data/voice_deniz/Kayıt (11).wav\n",
      "Filtered audio shape: (37888,)\n",
      "Model input shape: (37888,)\n",
      "Model output shape: (100000,)\n",
      "/Users/gabrielalvesiervolino/Desktop/Coding/machineLearning/voice_recog_final_project/audio_processing/data/voice_deniz/Kayıt (4).wav\n",
      "Filtered audio shape: (51883,)\n",
      "Model input shape: (51883,)\n",
      "Model output shape: (100000,)\n",
      "/Users/gabrielalvesiervolino/Desktop/Coding/machineLearning/voice_recog_final_project/audio_processing/data/voice_deniz/Kayıt (27).wav\n",
      "Filtered audio shape: (34816,)\n",
      "Model input shape: (34816,)\n",
      "Model output shape: (100000,)\n",
      "/Users/gabrielalvesiervolino/Desktop/Coding/machineLearning/voice_recog_final_project/audio_processing/data/voice_deniz/Kayıt (8).wav\n",
      "Filtered audio shape: (41984,)\n",
      "Model input shape: (41984,)\n",
      "Model output shape: (100000,)\n",
      "/Users/gabrielalvesiervolino/Desktop/Coding/machineLearning/voice_recog_final_project/audio_processing/data/voice_deniz/Kayıt (9).wav\n",
      "Filtered audio shape: (30038,)\n",
      "Model input shape: (30038,)\n",
      "Model output shape: (100000,)\n",
      "/Users/gabrielalvesiervolino/Desktop/Coding/machineLearning/voice_recog_final_project/audio_processing/data/voice_deniz/Kayıt (26).wav\n",
      "Filtered audio shape: (26283,)\n",
      "Model input shape: (26283,)\n",
      "Model output shape: (100000,)\n",
      "/Users/gabrielalvesiervolino/Desktop/Coding/machineLearning/voice_recog_final_project/audio_processing/data/voice_deniz/Kayıt (5).wav\n",
      "Filtered audio shape: (70827,)\n",
      "Model input shape: (70827,)\n",
      "Model output shape: (100000,)\n",
      "/Users/gabrielalvesiervolino/Desktop/Coding/machineLearning/voice_recog_final_project/audio_processing/data/voice_deniz/Kayıt (10).wav\n",
      "Filtered audio shape: (37547,)\n",
      "Model input shape: (37547,)\n",
      "Model output shape: (100000,)\n",
      "/Users/gabrielalvesiervolino/Desktop/Coding/machineLearning/voice_recog_final_project/audio_processing/data/voice_deniz/Kayıt.wav\n",
      "Filtered audio shape: (66219,)\n",
      "Model input shape: (66219,)\n",
      "Model output shape: (100000,)\n",
      "/Users/gabrielalvesiervolino/Desktop/Coding/machineLearning/voice_recog_final_project/audio_processing/data/voice_deniz/Kayıt (21).wav\n",
      "Filtered audio shape: (50176,)\n",
      "Model input shape: (50176,)\n",
      "Model output shape: (100000,)\n",
      "/Users/gabrielalvesiervolino/Desktop/Coding/machineLearning/voice_recog_final_project/audio_processing/data/voice_deniz/Kayıt (17).wav\n",
      "Filtered audio shape: (36523,)\n",
      "Model input shape: (36523,)\n",
      "Model output shape: (100000,)\n",
      "/Users/gabrielalvesiervolino/Desktop/Coding/machineLearning/voice_recog_final_project/audio_processing/data/voice_deniz/Kayıt (2).wav\n",
      "Filtered audio shape: (53248,)\n",
      "Model input shape: (53248,)\n",
      "Model output shape: (100000,)\n",
      "/Users/gabrielalvesiervolino/Desktop/Coding/machineLearning/voice_recog_final_project/audio_processing/data/voice_deniz/Kayıt (3).wav\n",
      "Filtered audio shape: (66560,)\n",
      "Model input shape: (66560,)\n",
      "Model output shape: (100000,)\n",
      "/Users/gabrielalvesiervolino/Desktop/Coding/machineLearning/voice_recog_final_project/audio_processing/data/voice_deniz/Kayıt (16).wav\n",
      "Filtered audio shape: (34134,)\n",
      "Model input shape: (34134,)\n",
      "Model output shape: (100000,)\n",
      "/Users/gabrielalvesiervolino/Desktop/Coding/machineLearning/voice_recog_final_project/audio_processing/data/voice_deniz/Kayıt (20).wav\n",
      "Filtered audio shape: (40960,)\n",
      "Model input shape: (40960,)\n",
      "Model output shape: (100000,)\n"
     ]
    }
   ],
   "source": [
    "comp_list = resample_data(audio_path, 16000)\n",
    "with open(\"test.txt\", \"w\") as f:\n",
    "    print(comp_list, file=f)"
   ]
  }
 ],
 "metadata": {
  "kernelspec": {
   "display_name": "final",
   "language": "python",
   "name": "python3"
  },
  "language_info": {
   "codemirror_mode": {
    "name": "ipython",
    "version": 3
   },
   "file_extension": ".py",
   "mimetype": "text/x-python",
   "name": "python",
   "nbconvert_exporter": "python",
   "pygments_lexer": "ipython3",
   "version": "3.12.4"
  }
 },
 "nbformat": 4,
 "nbformat_minor": 2
}
