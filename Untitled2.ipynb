{
 "cells": [
  {
   "cell_type": "code",
   "execution_count": 3,
   "id": "1c51dcf2-ed77-41df-b521-03126296177f",
   "metadata": {
    "tags": []
   },
   "outputs": [
    {
     "name": "stdout",
     "output_type": "stream",
     "text": [
      "['APPLE', 'BANANA', 'PEAR', 'KIWI', 'ORANGE', 'TOMATO', 'STARFUIT', 'GRAPE']\n"
     ]
    }
   ],
   "source": [
    "#**Challenge question:** Write a list comprehension which converts each element of `fruits` uppercase.\n",
    "\n",
    "#```python\n",
    "fruits = ['apple', 'banana', 'pear', 'kiwi', 'orange', 'tomato', 'starfuit', 'grape']\n",
    "\n",
    "# List comprehension goes here...\n",
    "l = [fruit.upper() for fruit in fruits]\n",
    "print(l)\n",
    "#```\n"
   ]
  },
  {
   "cell_type": "code",
   "execution_count": null,
   "id": "51050794-deb2-49da-bf5f-2e2bd1d7e2bb",
   "metadata": {},
   "outputs": [],
   "source": []
  }
 ],
 "metadata": {
  "kernelspec": {
   "display_name": "Python 3 (ipykernel)",
   "language": "python",
   "name": "python3"
  },
  "language_info": {
   "codemirror_mode": {
    "name": "ipython",
    "version": 3
   },
   "file_extension": ".py",
   "mimetype": "text/x-python",
   "name": "python",
   "nbconvert_exporter": "python",
   "pygments_lexer": "ipython3",
   "version": "3.10.14"
  }
 },
 "nbformat": 4,
 "nbformat_minor": 5
}
